{
 "cells": [
  {
   "cell_type": "code",
   "execution_count": 49,
   "metadata": {
    "collapsed": false
   },
   "outputs": [],
   "source": [
    "url = \"https://pub.orcid.org/0000-0002-2907-3313/orcid-works\"\n",
    "\n",
    "import requests\n",
    "import json\n",
    "\n",
    "resp = requests.get(url,\n",
    "                    headers={'Accept':'application/orcid+json'})\n",
    "\n",
    "orcid_data = resp.json()\n",
    "\n",
    "works =  orcid_data['orcid-profile']['orcid-activities']['orcid-works']['orcid-work']"
   ]
  },
  {
   "cell_type": "code",
   "execution_count": 141,
   "metadata": {
    "collapsed": false
   },
   "outputs": [],
   "source": [
    "#for key in orcid_data.keys():\n",
    "#    print(key)"
   ]
  },
  {
   "cell_type": "markdown",
   "metadata": {},
   "source": [
    "     orcid_data['orcid-profile']['orcid-bio'] contains the bio info\n",
    " "
   ]
  },
  {
   "cell_type": "code",
   "execution_count": 123,
   "metadata": {
    "collapsed": false
   },
   "outputs": [
    {
     "name": "stdout",
     "output_type": "stream",
     "text": [
      "0 10.5281/zenodo.33682\n",
      "1 9780956460370\n",
      "2 10.6084/M9.FIGSHARE.949624\n",
      "3 10.6084/M9.FIGSHARE.1021491\n",
      "4 10.6084/M9.FIGSHARE.944593\n",
      "5 10.1111/1754-0208.12061\n",
      "6 0036-9241\n",
      "7 10.1016/j.jhg.2014.05.007\n",
      "8 10.1111/1754-0208.12012\n",
      "9 10.1016/j.jhg.2014.05.007\n",
      "10 10.6084/M9.FIGSHARE.944593\n",
      "11 10.1111/1754-0208.12061\n",
      "12 10.6084/M9.FIGSHARE.1021491\n",
      "13 10.6084/M9.FIGSHARE.949624\n",
      "14 10.1111/1754-0208.12012\n",
      "15 10.1080/13555502.2013.865977\n",
      "16 0036-9241\n",
      "17 10.3726/978-3-0353-0113-7\n",
      "18 9780956688330\n",
      "19 None\n",
      "20 None\n",
      "21 10.1179/jrl.2008.4.1.21\n",
      "22 None\n",
      "23 None\n"
     ]
    }
   ],
   "source": [
    "def dic_item(item):\n",
    "    dobj={}\n",
    "    if item['work-external-identifiers']:\n",
    "        doi = item['work-external-identifiers']['work-external-identifier'][0]['work-external-identifier-id']['value']\n",
    "        dobj['cite'] = item['work-citation']\n",
    "        dobj['url'] = item['url']\n",
    "        return doi, dobj,\n",
    "    else:\n",
    "        return None, None\n",
    "\n",
    "d = {}\n",
    "for n,item in enumerate(works):\n",
    "    doi, tmp_d =  dic_item(item)\n",
    "    print(n, doi)\n",
    "    d[doi] = tmp_d"
   ]
  },
  {
   "cell_type": "code",
   "execution_count": 138,
   "metadata": {
    "collapsed": false
   },
   "outputs": [
    {
     "name": "stdout",
     "output_type": "stream",
     "text": [
      "{'work-citation-type': 'FORMATTED_CHICAGO', 'citation': 'M. H. Beals Scissors and Paste Core Dataset and Derived Data v1.0.0. (Zenodo, 2015). DOI:10.5281/zenodo.33682'} \n",
      "\n",
      "{'work-citation-type': 'BIBTEX', 'citation': '@article{Beals_2014,doi = {10.1016/j.jhg.2014.05.007},url = {http://dx.doi.org/10.1016/j.jhg.2014.05.007},year = 2014,month = {Jul},publisher = {Elsevier BV},volume = {45},pages = {121-122},author = {M.H. Beals},title = {The American Idea of England, 1776$\\\\textendash$1840},journal = {Journal of Historical Geography}}'} \n",
      "\n",
      "{'work-citation-type': 'BIBTEX', 'citation': '@article{Beals_2013, title={Rapunzel and the Ivory Tower: How Open Access Will Save the Humanities (from Themselves)}, volume={18}, url={http://dx.doi.org/10.1080/13555502.2013.865977}, DOI={10.1080/13555502.2013.865977}, number={4}, journal={Journal of Victorian Culture}, publisher={Informa UK (Taylor &amp; Francis)}, author={Beals, M. H.}, year={2013}, month={Dec}, pages={543-550}}'} \n",
      "\n",
      "{'work-citation-type': 'BIBTEX', 'citation': '@misc{datacite6ffd17ae-a304-4065-b61c-a86ba86adf67,\\n  doi = {10.6084/M9.FIGSHARE.944593},\\n  url = {http://dx.doi.org/10.6084/M9.FIGSHARE.944593},\\n  author = {M. H. Beals; },\\n  publisher = {Figshare},\\n  title = {The Role of the Sydney Gazette in the Creation of Australia in the Scottish Public Sphere},\\n  year = {2014}\\n}'} \n",
      "\n",
      "{'work-citation-type': 'BIBTEX', 'citation': '@misc{datacite7a79b6aa-2a4a-4d91-b3b7-66839a34f7de,\\n  doi = {10.6084/M9.FIGSHARE.1021491},\\n  url = {http://dx.doi.org/10.6084/M9.FIGSHARE.1021491},\\n  author = {M. H. Beals; },\\n  publisher = {Figshare},\\n  title = {Introduction to Digital Analysis Techniques},\\n  year = {2014}\\n}'} \n",
      "\n",
      "{'work-citation-type': 'BIBTEX', 'citation': '@article{Beals_2012, title={              Scottishness and Irishness in New Zealand since 1840              By Angela McCarthy. Pp. xvi, 235. ISBN: 97800719077616. Manchester: Manchester University Press, 2011. Â£60.00.            }, volume={91}, url={http://dx.doi.org/10.3366/shr.2012.0131}, DOI={10.3366/shr.2012.0131}, number={2}, journal={Scottish Historical Review}, publisher={Edinburgh University Press}, author={Beals, M. H.}, year={2012}, month={Oct}, pages={382-383}}'} \n",
      "\n",
      "{'work-citation-type': 'BIBTEX', 'citation': '@book{Beals_2011,doi = {10.3726/978-3-0353-0113-7},url = {http://dx.doi.org/10.3726/978-3-0353-0113-7},year = 2011,month = {aug},publisher = {Peter Lang {AG}, Internationaler Verlag der Wissenschaften},author = {Melodee Beals},title = {Coin, Kirk, Class and Kin}}'} \n",
      "\n",
      "None \n",
      "\n",
      "{'work-citation-type': 'BIBTEX', 'citation': ' @article{BEALS_2014, title={Reading the Scottish Enlightenment: Books and Their Readers in Provincial Scotland, 1750-1820. By MARK TOWSEY. Leiden: Brill. 2010. 361 p. â\\x82¬104 (hb). ISBN 978-90-04-18432-9.}, volume={37}, ISSN={1754-0194}, url={http://dx.doi.org/10.1111/1754-0208.12061}, DOI={10.1111/1754-0208.12061}, number={1}, journal={J 18th Cent Stud}, publisher={Wiley-Blackwell}, author={BEALS, M. H.}, year={2014}, month={Mar}, pages={122â\\x80\\x93123}}'} \n",
      "\n",
      "{'work-citation-type': 'BIBTEX', 'citation': '@article{BEALS_2013, title={The Shaping of Scottish Identities: Family, Nation, and the Worlds Beyond. Edited by JODI A.CAMPBELL, ELIZABETHEWEN and HEATHERPARKER. Guelph, Ontario: Centre for Scottish Studies, University of Guelph. 2011. 263 p. Â£25 (hb). ISBN 978-0-8895-5589-1.}, volume={36}, url={http://dx.doi.org/10.1111/1754-0208.12012}, DOI={10.1111/1754-0208.12012}, number={3}, journal={Journal for Eighteenth-Century Studies}, publisher={Wiley Blackwell (Blackwell Publishing)}, author={BEALS, M. H.}, year={2013}, month={Sep}, pages={459-460}}'} \n",
      "\n",
      "{'work-citation-type': 'BIBTEX', 'citation': \"@misc{datacite48186a25-89de-4495-bba7-90cb8790a966,\\n  doi = {10.6084/M9.FIGSHARE.949624},\\n  url = {http://dx.doi.org/10.6084/M9.FIGSHARE.949624},\\n  author = {M. H. Beals; },\\n  publisher = {Figshare},\\n  title = {'Passengers Wishing to Embrace This Commodious Conveyance, Will Apply Immediately': The Rise in Emigrant Passage Advertising in the Scottish Borders, 1800-1830},\\n  year = {2014}\\n}\"} \n",
      "\n",
      "None \n",
      "\n",
      "None \n",
      "\n"
     ]
    }
   ],
   "source": [
    "for item in d.values():\n",
    "    if item:\n",
    "        print(item['cite'],'\\n')\n",
    "    else:\n",
    "        pass"
   ]
  },
  {
   "cell_type": "code",
   "execution_count": null,
   "metadata": {
    "collapsed": false
   },
   "outputs": [],
   "source": []
  },
  {
   "cell_type": "code",
   "execution_count": null,
   "metadata": {
    "collapsed": true
   },
   "outputs": [],
   "source": []
  }
 ],
 "metadata": {
  "kernelspec": {
   "display_name": "Python 3",
   "language": "python",
   "name": "python3"
  },
  "language_info": {
   "codemirror_mode": {
    "name": "ipython",
    "version": 3
   },
   "file_extension": ".py",
   "mimetype": "text/x-python",
   "name": "python",
   "nbconvert_exporter": "python",
   "pygments_lexer": "ipython3",
   "version": "3.4.4"
  }
 },
 "nbformat": 4,
 "nbformat_minor": 0
}
